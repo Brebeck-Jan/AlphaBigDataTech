{
 "cells": [
  {
   "cell_type": "markdown",
   "metadata": {},
   "source": [
    "# Text preprocessing - replace umlauts"
   ]
  },
  {
   "cell_type": "code",
   "execution_count": 1,
   "metadata": {},
   "outputs": [],
   "source": [
    "def umlauts(word):\n",
    "    \"\"\"\n",
    "    Replace umlauts for a given text\n",
    "    \n",
    "    :param word: text as string\n",
    "    :return: manipulated text as str\n",
    "    \"\"\"\n",
    "    \n",
    "    tempVar = word  \n",
    "    \n",
    "    tempVar = tempVar.replace('ä', 'ae')\n",
    "    tempVar = tempVar.replace('ö', 'oe')\n",
    "    tempVar = tempVar.replace('ü', 'ue')\n",
    "    tempVar = tempVar.replace('Ä', 'Ae')\n",
    "    tempVar = tempVar.replace('Ö', 'Oe')\n",
    "    tempVar = tempVar.replace('Ü', 'Ue')\n",
    "    tempVar = tempVar.replace('ß', 'ss')\n",
    "    \n",
    "    return tempVar"
   ]
  },
  {
   "cell_type": "code",
   "execution_count": 2,
   "metadata": {},
   "outputs": [],
   "source": [
    "with open('test.txt', encoding='utf-8') as file:\n",
    "    text = file.read()\n",
    "text = umlauts(text)\n",
    "text = ' '.join((text.strip('\\n').split()))\n",
    "\n",
    "text_file = open(\"test.txt\", \"w\")\n",
    "n = text_file.write(text)\n",
    "text_file.close()"
   ]
  },
  {
   "cell_type": "markdown",
   "metadata": {},
   "source": [
    "# hier beginnt die eigentliche BD-Anwendung"
   ]
  },
  {
   "cell_type": "code",
   "execution_count": 3,
   "metadata": {},
   "outputs": [],
   "source": [
    "import findspark\n",
    "findspark.init()\n",
    "from pyspark.sql import SparkSession\n",
    "from pyspark.conf import SparkConf"
   ]
  },
  {
   "cell_type": "code",
   "execution_count": null,
   "metadata": {},
   "outputs": [],
   "source": [
    "# if we would use kubernetes then run this instead of next cell\n",
    "'''conf=SparkConf()\\\n",
    "        .setMaster(local[*])\\\n",
    "        .setappName(\"WordCount\")\\\n",
    "        .setExecutorEnv(\"spark.executor.memory\",\"4g\")\\\n",
    "        .setExecutorEnv(\"spark.driver.memory\",\"4g\")\n",
    "  spark=SparkSession.builder\\\n",
    "        .config(conf=conf)\\\n",
    "        .getOrCreate()'''"
   ]
  },
  {
   "cell_type": "code",
   "execution_count": 4,
   "metadata": {},
   "outputs": [],
   "source": [
    "spark=SparkSession.builder\\\n",
    "    .master(\"local[*]\")\\\n",
    "    .appName(\"WordCount\")\\\n",
    "    .getOrCreate()\n",
    "sc=spark.sparkContext"
   ]
  },
  {
   "cell_type": "code",
   "execution_count": 5,
   "metadata": {},
   "outputs": [],
   "source": [
    "#hier eine txt der Datenbank einhängen für den wordcount\n",
    "file = 'test.txt'\n",
    "df = sc.textFile(file)"
   ]
  },
  {
   "cell_type": "code",
   "execution_count": 6,
   "metadata": {},
   "outputs": [],
   "source": [
    "# exclude punctuation\n",
    "def lower_clean_str(x):\n",
    "    punc='!\"#$%&\\'()*+,./:;<=>?@[\\\\]^_`{|}~-'\n",
    "    lowercased_str = x.lower()\n",
    "    for ch in punc:\n",
    "        lowercased_str = lowercased_str.replace(ch, '')\n",
    "    return lowercased_str"
   ]
  },
  {
   "cell_type": "code",
   "execution_count": 7,
   "metadata": {},
   "outputs": [],
   "source": [
    "#remove punktuation and transform to lowercase\n",
    "df = df.map(lower_clean_str) "
   ]
  },
  {
   "cell_type": "code",
   "execution_count": 8,
   "metadata": {},
   "outputs": [],
   "source": [
    "#split sentences into list of words\n",
    "df = df.flatMap(lambda satir: satir.split(\" \")) "
   ]
  },
  {
   "cell_type": "code",
   "execution_count": 9,
   "metadata": {},
   "outputs": [],
   "source": [
    "# exclude whitespaces\n",
    "df = df.filter(lambda x:x!='') "
   ]
  },
  {
   "cell_type": "code",
   "execution_count": 11,
   "metadata": {},
   "outputs": [],
   "source": [
    "# count how many times each word occurs\n",
    "count = df.map(lambda word:(word,1))\n",
    "countRBK = count.reduceByKey(lambda x,y:(x+y)).sortByKey()"
   ]
  },
  {
   "cell_type": "code",
   "execution_count": 13,
   "metadata": {},
   "outputs": [],
   "source": [
    "# rank words\n",
    "countRBK = countRBK.map(lambda x:(x[1],x[0]))\n",
    "countRBK = countRBK.sortByKey(False)"
   ]
  },
  {
   "cell_type": "code",
   "execution_count": 15,
   "metadata": {},
   "outputs": [],
   "source": [
    "# exclude stopwords\n",
    "## if normal importing doesn't work:   ##\n",
    "## python -m nltk.downloader stopwords ##\n",
    "\n",
    "#import nltk\n",
    "#nltk.download('stopwords')\n",
    "\n",
    "from nltk.corpus import stopwords\n",
    "stopwords =stopwords.words('german')\n",
    "\n",
    "german_stopwords = []\n",
    "for word in stopwords:\n",
    "    german_stopwords.append(umlauts(word))\n",
    "\n",
    "countRBK = countRBK.filter(lambda x: x[1] not in german_stopwords)"
   ]
  },
  {
   "cell_type": "code",
   "execution_count": 17,
   "metadata": {},
   "outputs": [
    {
     "data": {
      "text/plain": [
       "[(8, 'internet'),\n",
       " (8, 'sagte'),\n",
       " (6, 'bett'),\n",
       " (6, 'frau'),\n",
       " (6, 'gesicht'),\n",
       " (5, 'beim'),\n",
       " (5, 'fenster'),\n",
       " (5, 'ganz'),\n",
       " (5, 'hand'),\n",
       " (5, 'hoch')]"
      ]
     },
     "execution_count": 17,
     "metadata": {},
     "output_type": "execute_result"
    }
   ],
   "source": [
    "countRBK.take(10)"
   ]
  },
  {
   "cell_type": "code",
   "execution_count": 78,
   "metadata": {},
   "outputs": [
    {
     "data": {
      "text/html": [
       "<div>\n",
       "<style scoped>\n",
       "    .dataframe tbody tr th:only-of-type {\n",
       "        vertical-align: middle;\n",
       "    }\n",
       "\n",
       "    .dataframe tbody tr th {\n",
       "        vertical-align: top;\n",
       "    }\n",
       "\n",
       "    .dataframe thead th {\n",
       "        text-align: right;\n",
       "    }\n",
       "</style>\n",
       "<table border=\"1\" class=\"dataframe\">\n",
       "  <thead>\n",
       "    <tr style=\"text-align: right;\">\n",
       "      <th></th>\n",
       "      <th>{'site': 'faz'</th>\n",
       "      <th>'time': '13:45:51'</th>\n",
       "      <th>'title': 'Drohende Insolvenzen: Wie deutsche Gastwirte vor dem Winter zittern'</th>\n",
       "      <th>'link': 'https://www.faz.net/-gqi-a2z0k'</th>\n",
       "      <th>'text': 'Die Marmortische in „Elaine’s Restaurant“ schmiegen sich noch aneinander als gäbe es kein Corona als wäre die Eröffnung eines Dinner-Lokals für After-Work- und Pre-Party-Gäste gerade kein „heißer Ritt“ wie Luel Mulugeta gerne sagt. Meistens lacht er dabei den rechten Fuß mit den bunten Nike-Sneakern lässig übereinandergeschlagen. Er und sein Geschäftspartner Guy Lamaye expandieren mitten in der Krise und in großem Stil. Sie haben einen Live-Zähler auf ihrer neuen Website eingebaut: Er zeigt an wie viele Mitarbeiter sie schon haben – aktuell sind es 94 inklusive Aushilfen. Jetzt darf bloß kein zweiter Lockdown kommen. „Dann würden wir kaputtgehen“ sagt Lamaye und lächelt ein bisschen nervös. „Aber jetzt machen wir es erst mal Covid-Style“ unterbricht ihn Mulugeta.In drei Tagen werden in „Elaine’s Restaurant“ die ersten Gäste sitzen. Es ist nicht die erste Location und es wird nicht die letzte sein die Mulugeta und Lamaye – ursprünglich Betreiber eines einzigen Cafés im Zentrum der Stadt – während der Pandemie in Frankfurt eröffnen. Eine zweite Cafébar hat im Mai aufgemacht sie läuft noch nicht so recht. Drei weitere Lokale kommen noch die Mietverträge sind unterschrieben die Einrichtung gekauft die Mitarbeiter eingestellt.'</th>\n",
       "      <th>'authors': ['Sarah Obertreis']</th>\n",
       "      <th>'tags': ['wirtschaft']}</th>\n",
       "    </tr>\n",
       "  </thead>\n",
       "  <tbody>\n",
       "  </tbody>\n",
       "</table>\n",
       "</div>"
      ],
      "text/plain": [
       "Empty DataFrame\n",
       "Columns: [{'site': 'faz',  'time': '13:45:51',  'title': 'Drohende Insolvenzen: Wie deutsche Gastwirte vor dem Winter zittern',  'link': 'https://www.faz.net/-gqi-a2z0k',  'text': 'Die Marmortische in „Elaine’s Restaurant“ schmiegen sich noch aneinander als gäbe es kein Corona als wäre die Eröffnung eines Dinner-Lokals für After-Work- und Pre-Party-Gäste gerade kein „heißer Ritt“ wie Luel Mulugeta gerne sagt. Meistens lacht er dabei den rechten Fuß mit den bunten Nike-Sneakern lässig übereinandergeschlagen. Er und sein Geschäftspartner Guy Lamaye expandieren mitten in der Krise und in großem Stil. Sie haben einen Live-Zähler auf ihrer neuen Website eingebaut: Er zeigt an wie viele Mitarbeiter sie schon haben – aktuell sind es 94 inklusive Aushilfen. Jetzt darf bloß kein zweiter Lockdown kommen. „Dann würden wir kaputtgehen“ sagt Lamaye und lächelt ein bisschen nervös. „Aber jetzt machen wir es erst mal Covid-Style“ unterbricht ihn Mulugeta.In drei Tagen werden in „Elaine’s Restaurant“ die ersten Gäste sitzen. Es ist nicht die erste Location und es wird nicht die letzte sein die Mulugeta und Lamaye – ursprünglich Betreiber eines einzigen Cafés im Zentrum der Stadt – während der Pandemie in Frankfurt eröffnen. Eine zweite Cafébar hat im Mai aufgemacht sie läuft noch nicht so recht. Drei weitere Lokale kommen noch die Mietverträge sind unterschrieben die Einrichtung gekauft die Mitarbeiter eingestellt.',  'authors': ['Sarah Obertreis'],  'tags': ['wirtschaft']}]\n",
       "Index: []"
      ]
     },
     "execution_count": 78,
     "metadata": {},
     "output_type": "execute_result"
    }
   ],
   "source": [
    "import pandas as pd\n",
    "test = pd.read_csv('./../output/app_test.txt')\n",
    "\n",
    "test"
   ]
  },
  {
   "cell_type": "code",
   "execution_count": 66,
   "metadata": {},
   "outputs": [
    {
     "name": "stdout",
     "output_type": "stream",
     "text": [
      "<class 'pandas.core.frame.DataFrame'>\n",
      "Index: 0 entries\n",
      "Data columns (total 5 columns):\n",
      " #   Column         Non-Null Count  Dtype \n",
      "---  ------         --------------  ----- \n",
      " 0   {'col_1': \"3\"  0 non-null      object\n",
      " 1    'col_2': 'a   0 non-null      object\n",
      " 2   b b c          0 non-null      object\n",
      " 3   nj njnj. iono  0 non-null      object\n",
      " 4   nnjk.d'}       0 non-null      object\n",
      "dtypes: object(5)\n",
      "memory usage: 80.0+ bytes\n"
     ]
    }
   ],
   "source": [
    "test.info()"
   ]
  },
  {
   "cell_type": "code",
   "execution_count": null,
   "metadata": {},
   "outputs": [],
   "source": []
  }
 ],
 "metadata": {
  "kernelspec": {
   "display_name": "Python 3",
   "language": "python",
   "name": "python3"
  },
  "language_info": {
   "codemirror_mode": {
    "name": "ipython",
    "version": 3
   },
   "file_extension": ".py",
   "mimetype": "text/x-python",
   "name": "python",
   "nbconvert_exporter": "python",
   "pygments_lexer": "ipython3",
   "version": "3.6.7"
  }
 },
 "nbformat": 4,
 "nbformat_minor": 4
}
