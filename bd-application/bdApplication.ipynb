{
 "cells": [
  {
   "cell_type": "markdown",
   "metadata": {},
   "source": [
    "# Text preprocessing - replace umlauts"
   ]
  },
  {
   "cell_type": "code",
   "execution_count": 1,
   "metadata": {},
   "outputs": [],
   "source": [
    "news = ['Afrikanische Schweinepest in Deutschland nachgewiesen', 'Amerika entzieht mehr als 1000 chinesischen Studenten und Forschern ihre Visa', 'Brand im Lager Moria: Statisten in einem Abschreckungsdrama', 'CDU-Parteivorsitz: Wie Nord Stream 2 die Karten neu mischt', 'Conti, Schaeffler & Co.: Autozulieferer in der Corona-Falle', 'Debatte nach Moria-Brand: CDU-Abgeordneter fordert, 5000 Migranten aufzunehmen', 'Debatte um Sanktionen: Warum Nord Stream 2 fuer Russland so wichtig ist', 'Deep Learning alleine reicht nicht', 'EZB entscheidet ueber weiteres Vorgehen in Corona-Krise', 'Fiskus hat erst 1,1 Milliarden Euro zurueckgeholt', 'Kommentar: Ein offizielles Corona-Gedenken ist riskant', 'Trump ueber Corona-Risiko: „Ich wollte es immer herunterspielen“', 'Venezuelas Opposition streitet: „Regierung spielen“ oder an Wahlen teilnehmen?', 'Verdacht auf Afrikanische Schweinepest in Brandenburg', 'Vielfaeltige Videoplattform: Wie Youtube Arbeitsplaetze und Wirtschaftswachstum schafft', 'Wahl in NRW: „Corona hat gezeigt, wie wichtig die Kommunen sind“', 'Weniger Firmenpleiten im Halbjahr', 'Woodwards Trump-Buch: Luegen und Protzen', 'Afrikanische Schweinepest in Deutschland: erster Fall in Deutschland bestaetigt', 'Alec Baldwin: Fuenftes Baby mit Ehefrau Hilaria ist da', 'Alexej Nawalny: Mike Pompeo vermutet \"hohe russische Regierungsmitglieder\" hinter Anschlag', 'Alexej Nawalny: Polizei verschaerft Bewachung des Kremlkritikers in Berliner Charité', 'Barfuss zum Olympiasieg: Wie Abebe Bikila 1960 Marathon-Gold gewann', 'Belarus: Marija Kolesnikowa soll verhoert werden', 'Boom trotz Coronakrise: Bauhauptgewerbe stellt kraeftig ein', 'Corona und Globalisierung: Was Deutschland zu verlieren hat', 'Corona-News am Donnerstag: Hochrechnung: Moeglicherweise neunmal mehr Faelle in USA als bisher bekannt', 'Donald Trump in Bedraengnis nach Woodward-Enthuellungen: \"Ich bin ein Cheerleader fuer dieses Land\"', 'Donald Trump und Coronavirus: Watergate-Enthueller Bob Woodward bringt Trump in Not', 'Drew Barrymore will nicht mehr heiraten', 'Fernradwege: Die Sucht nach Hoehenmetern - Touren zum Auspowern', 'Formel 1 : Sebastian Vettel faehrt ab 2021 fuer Aston Martin', 'Jan Boehmermann-Twitter-Buch: Gefolgt von niemandem, dem du folgst - Kritik', 'Kassel: Tankstellen-Mitarbeiterin vertreibt Raeuber mit Kuchenblech', 'Moria nach der Brandkatastrophe: Obdachlos in Europa', 'Moria: Gerd Mueller fordert Aufnahme von 2000 Migranten aus Moria', 'Moria: Unbegleitete Minderjaehrige werden aufs griechische Festland gebracht', 'Moria: Unionsabgeordnete fordern nach Brand Aufnahme von 5000 Fluechtlingen', 'Royal Enfield Himalayan: Treue Wanderfreundin', 'Saenger Ronald Bell von Kool & the Gang ist tot', 'San Francisco: Waldbraende in Kalifornien sorgen fuer apokalyptische Stimmung', 'Schweinepest: Agrarministerin Julia Kloeckner zu moeglichem Fall in Deutschland - Livestream', 'Stillgelegte Gleise: Wo die Deutsche Bahn wieder fahren soll', 'US Open: Dominic Thiem debuetiert in der Runde der besten Vier', 'US-Demokraten warnen Boris Johnson vor Bruch des Brexit-Abkommens', 'USA streichen mehr als tausend Visa fuer Forscher aus China', 'USA: Weisses Haus spielte laut Whistleblower russische Wahleinmischung herunter', 'Venezuela: Freddy Guevara verlaesst nach Begnadigung chilenische Botschaft']"
   ]
  },
  {
   "cell_type": "code",
   "execution_count": 2,
   "metadata": {},
   "outputs": [],
   "source": [
    "def umlauts(word):\n",
    "    \"\"\"\n",
    "    Replace umlauts for a given text\n",
    "    \n",
    "    :param word: text as string\n",
    "    :return: manipulated text as str\n",
    "    \"\"\"\n",
    "    \n",
    "    tempVar = word  \n",
    "    \n",
    "    tempVar = tempVar.replace('ä', 'ae')\n",
    "    tempVar = tempVar.replace('ö', 'oe')\n",
    "    tempVar = tempVar.replace('ü', 'ue')\n",
    "    tempVar = tempVar.replace('Ä', 'Ae')\n",
    "    tempVar = tempVar.replace('Ö', 'Oe')\n",
    "    tempVar = tempVar.replace('Ü', 'Ue')\n",
    "    tempVar = tempVar.replace('ß', 'ss')\n",
    "    \n",
    "    return tempVar"
   ]
  },
  {
   "cell_type": "code",
   "execution_count": null,
   "metadata": {},
   "outputs": [],
   "source": [
    "with open('test.txt', encoding='utf-8') as file:\n",
    "    text = file.read()\n",
    "text = umlauts(text)\n",
    "text = ' '.join((text.strip('\\n').split()))\n",
    "\n",
    "text_file = open(\"test.txt\", \"w\")\n",
    "n = text_file.write(text)\n",
    "text_file.close()"
   ]
  },
  {
   "cell_type": "markdown",
   "metadata": {},
   "source": [
    "# hier beginnt die eigentliche BD-Anwendung"
   ]
  },
  {
   "cell_type": "code",
   "execution_count": 3,
   "metadata": {},
   "outputs": [],
   "source": [
    "import findspark\n",
    "findspark.init()\n",
    "from pyspark.sql import SparkSession\n",
    "from pyspark.conf import SparkConf"
   ]
  },
  {
   "cell_type": "code",
   "execution_count": null,
   "metadata": {},
   "outputs": [],
   "source": [
    "# if we would use kubernetes then run this instead of next cell\n",
    "'''conf=SparkConf()\\\n",
    "        .setMaster(local[*])\\\n",
    "        .setappName(\"WordCount\")\\\n",
    "        .setExecutorEnv(\"spark.executor.memory\",\"4g\")\\\n",
    "        .setExecutorEnv(\"spark.driver.memory\",\"4g\")\n",
    "  spark=SparkSession.builder\\\n",
    "        .config(conf=conf)\\\n",
    "        .getOrCreate()'''"
   ]
  },
  {
   "cell_type": "code",
   "execution_count": 4,
   "metadata": {},
   "outputs": [],
   "source": [
    "spark=SparkSession.builder\\\n",
    "    .master(\"local[*]\")\\\n",
    "    .appName(\"WordCount\")\\\n",
    "    .getOrCreate()\n",
    "sc=spark.sparkContext"
   ]
  },
  {
   "cell_type": "code",
   "execution_count": 6,
   "metadata": {},
   "outputs": [],
   "source": [
    "#hier eine txt der Datenbank einhängen für den wordcount\n",
    "#file = 'test.txt'\n",
    "df = sc.parallelize(news)"
   ]
  },
  {
   "cell_type": "code",
   "execution_count": 8,
   "metadata": {},
   "outputs": [],
   "source": [
    "# exclude punctuation\n",
    "def lower_clean_str(x):\n",
    "    punc='!\"#$%&\\'()*+,./:;<=>?@[\\\\]^_`{|}~-'\n",
    "    lowercased_str = x.lower()\n",
    "    for ch in punc:\n",
    "        lowercased_str = lowercased_str.replace(ch, '')\n",
    "    return lowercased_str"
   ]
  },
  {
   "cell_type": "code",
   "execution_count": 9,
   "metadata": {},
   "outputs": [],
   "source": [
    "#remove punktuation and transform to lowercase\n",
    "df = df.map(lower_clean_str) "
   ]
  },
  {
   "cell_type": "code",
   "execution_count": 11,
   "metadata": {},
   "outputs": [],
   "source": [
    "#split sentences into list of words\n",
    "df = df.flatMap(lambda satir: satir.split(\" \")) "
   ]
  },
  {
   "cell_type": "code",
   "execution_count": 12,
   "metadata": {},
   "outputs": [],
   "source": [
    "# exclude whitespaces\n",
    "df = df.filter(lambda x:x!='') "
   ]
  },
  {
   "cell_type": "code",
   "execution_count": 62,
   "metadata": {},
   "outputs": [],
   "source": [
    "# count how many times each word occurs\n",
    "count = df.map(lambda word:(word,1))\n",
    "countRBK = count.reduceByKey(lambda x,y:(x+y)).sortByKey()"
   ]
  },
  {
   "cell_type": "code",
   "execution_count": 63,
   "metadata": {},
   "outputs": [],
   "source": [
    "# rank words\n",
    "countRBK = countRBK.map(lambda x:(x[1],x[0]))\n",
    "countRBK = countRBK.sortByKey(False)"
   ]
  },
  {
   "cell_type": "code",
   "execution_count": 64,
   "metadata": {},
   "outputs": [],
   "source": [
    "from nltk.corpus import stopwords\n",
    "stopwords =stopwords.words('german')\n",
    "\n",
    "german_stopwords = []\n",
    "for word in stopwords:\n",
    "    german_stopwords.append(umlauts(word))\n",
    "\n",
    "countRBK = countRBK.filter(lambda x: x[1] not in german_stopwords)"
   ]
  },
  {
   "cell_type": "code",
   "execution_count": 111,
   "metadata": {},
   "outputs": [],
   "source": [
    "import pandas as pd\n",
    "dff = pd.DataFrame(columns=['trend-word'])\n",
    "for i in range(5):\n",
    "    dff = dff.append({'trend-word': countRBK.take(5)[i][1]}, ignore_index=True)"
   ]
  },
  {
   "cell_type": "code",
   "execution_count": 112,
   "metadata": {},
   "outputs": [
    {
     "data": {
      "text/html": [
       "<div>\n",
       "<style scoped>\n",
       "    .dataframe tbody tr th:only-of-type {\n",
       "        vertical-align: middle;\n",
       "    }\n",
       "\n",
       "    .dataframe tbody tr th {\n",
       "        vertical-align: top;\n",
       "    }\n",
       "\n",
       "    .dataframe thead th {\n",
       "        text-align: right;\n",
       "    }\n",
       "</style>\n",
       "<table border=\"1\" class=\"dataframe\">\n",
       "  <thead>\n",
       "    <tr style=\"text-align: right;\">\n",
       "      <th></th>\n",
       "      <th>trend-word</th>\n",
       "    </tr>\n",
       "  </thead>\n",
       "  <tbody>\n",
       "    <tr>\n",
       "      <th>0</th>\n",
       "      <td>moria</td>\n",
       "    </tr>\n",
       "    <tr>\n",
       "      <th>1</th>\n",
       "      <td>deutschland</td>\n",
       "    </tr>\n",
       "    <tr>\n",
       "      <th>2</th>\n",
       "      <td>mehr</td>\n",
       "    </tr>\n",
       "    <tr>\n",
       "      <th>3</th>\n",
       "      <td>schweinepest</td>\n",
       "    </tr>\n",
       "    <tr>\n",
       "      <th>4</th>\n",
       "      <td>trump</td>\n",
       "    </tr>\n",
       "  </tbody>\n",
       "</table>\n",
       "</div>"
      ],
      "text/plain": [
       "     trend-word\n",
       "0         moria\n",
       "1   deutschland\n",
       "2          mehr\n",
       "3  schweinepest\n",
       "4         trump"
      ]
     },
     "execution_count": 112,
     "metadata": {},
     "output_type": "execute_result"
    }
   ],
   "source": [
    "dff"
   ]
  },
  {
   "cell_type": "code",
   "execution_count": null,
   "metadata": {},
   "outputs": [],
   "source": []
  }
 ],
 "metadata": {
  "kernelspec": {
   "display_name": "Python 3",
   "language": "python",
   "name": "python3"
  },
  "language_info": {
   "codemirror_mode": {
    "name": "ipython",
    "version": 3
   },
   "file_extension": ".py",
   "mimetype": "text/x-python",
   "name": "python",
   "nbconvert_exporter": "python",
   "pygments_lexer": "ipython3",
   "version": "3.6.7"
  }
 },
 "nbformat": 4,
 "nbformat_minor": 4
}
